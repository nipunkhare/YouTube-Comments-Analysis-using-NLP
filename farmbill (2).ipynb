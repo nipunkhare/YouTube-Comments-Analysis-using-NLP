{
 "cells": [
  {
   "cell_type": "code",
   "execution_count": 1,
   "metadata": {},
   "outputs": [],
   "source": [
    "import pandas as pd\n",
    "data= pd.read_excel(r'C:\\Users\\Nipun Khare\\Desktop\\Workbooks\\FPcomment_Combined.xlsx')"
   ]
  },
  {
   "cell_type": "code",
   "execution_count": 2,
   "metadata": {},
   "outputs": [],
   "source": [
    "anti= pd.read_csv(r'C:\\Users\\Nipun Khare\\Desktop\\Workbooks\\anti.txt')"
   ]
  },
  {
   "cell_type": "code",
   "execution_count": 3,
   "metadata": {},
   "outputs": [
    {
     "data": {
      "text/plain": [
       "pandas.core.frame.DataFrame"
      ]
     },
     "execution_count": 3,
     "metadata": {},
     "output_type": "execute_result"
    }
   ],
   "source": [
    "type(anti)"
   ]
  },
  {
   "cell_type": "code",
   "execution_count": 4,
   "metadata": {},
   "outputs": [],
   "source": [
    "antii= list(anti)\n",
    "antii= [string.replace(' ', '') for string in antii]"
   ]
  },
  {
   "cell_type": "code",
   "execution_count": 5,
   "metadata": {},
   "outputs": [],
   "source": [
    "support= pd.read_csv(r'C:\\Users\\Nipun Khare\\Desktop\\Workbooks\\support.txt')\n",
    "pro= list(support)\n",
    "pro\n",
    "pro= [string.replace(' ', '') for string in pro]"
   ]
  },
  {
   "cell_type": "code",
   "execution_count": 6,
   "metadata": {},
   "outputs": [],
   "source": [
    "data['comments']= data['comments'].map(str)"
   ]
  },
  {
   "cell_type": "code",
   "execution_count": 7,
   "metadata": {},
   "outputs": [],
   "source": [
    "from nltk.tokenize import word_tokenize\n",
    "data['tokenized_text'] = data['comments'].apply(word_tokenize)"
   ]
  },
  {
   "cell_type": "code",
   "execution_count": 8,
   "metadata": {},
   "outputs": [
    {
     "data": {
      "text/html": [
       "<div>\n",
       "<style scoped>\n",
       "    .dataframe tbody tr th:only-of-type {\n",
       "        vertical-align: middle;\n",
       "    }\n",
       "\n",
       "    .dataframe tbody tr th {\n",
       "        vertical-align: top;\n",
       "    }\n",
       "\n",
       "    .dataframe thead th {\n",
       "        text-align: right;\n",
       "    }\n",
       "</style>\n",
       "<table border=\"1\" class=\"dataframe\">\n",
       "  <thead>\n",
       "    <tr style=\"text-align: right;\">\n",
       "      <th></th>\n",
       "      <th>comments</th>\n",
       "      <th>tokenized_text</th>\n",
       "    </tr>\n",
       "  </thead>\n",
       "  <tbody>\n",
       "    <tr>\n",
       "      <td>0</td>\n",
       "      <td>At Singhu border, protesting farmers from Punj...</td>\n",
       "      <td>[At, Singhu, border, ,, protesting, farmers, f...</td>\n",
       "    </tr>\n",
       "    <tr>\n",
       "      <td>1</td>\n",
       "      <td>Sikh are peaceful community we respect them fr...</td>\n",
       "      <td>[Sikh, are, peaceful, community, we, respect, ...</td>\n",
       "    </tr>\n",
       "    <tr>\n",
       "      <td>2</td>\n",
       "      <td>Every citizen has a right to say I support you...</td>\n",
       "      <td>[Every, citizen, has, a, right, to, say, I, su...</td>\n",
       "    </tr>\n",
       "    <tr>\n",
       "      <td>3</td>\n",
       "      <td>Nihangs are disciplined warriors of our sikh c...</td>\n",
       "      <td>[Nihangs, are, disciplined, warriors, of, our,...</td>\n",
       "    </tr>\n",
       "    <tr>\n",
       "      <td>4</td>\n",
       "      <td>Dil jeet liya Nihang Sikh ne</td>\n",
       "      <td>[Dil, jeet, liya, Nihang, Sikh, ne]</td>\n",
       "    </tr>\n",
       "  </tbody>\n",
       "</table>\n",
       "</div>"
      ],
      "text/plain": [
       "                                            comments  \\\n",
       "0  At Singhu border, protesting farmers from Punj...   \n",
       "1  Sikh are peaceful community we respect them fr...   \n",
       "2  Every citizen has a right to say I support you...   \n",
       "3  Nihangs are disciplined warriors of our sikh c...   \n",
       "4                       Dil jeet liya Nihang Sikh ne   \n",
       "\n",
       "                                      tokenized_text  \n",
       "0  [At, Singhu, border, ,, protesting, farmers, f...  \n",
       "1  [Sikh, are, peaceful, community, we, respect, ...  \n",
       "2  [Every, citizen, has, a, right, to, say, I, su...  \n",
       "3  [Nihangs, are, disciplined, warriors, of, our,...  \n",
       "4                [Dil, jeet, liya, Nihang, Sikh, ne]  "
      ]
     },
     "execution_count": 8,
     "metadata": {},
     "output_type": "execute_result"
    }
   ],
   "source": [
    "data.head()"
   ]
  },
  {
   "cell_type": "code",
   "execution_count": 9,
   "metadata": {},
   "outputs": [],
   "source": [
    "from nltk.tokenize import TreebankWordTokenizer\n",
    "tokenizer = TreebankWordTokenizer()"
   ]
  },
  {
   "cell_type": "code",
   "execution_count": 10,
   "metadata": {},
   "outputs": [],
   "source": [
    "def support(sentence):\n",
    "    \n",
    "    pros= 0\n",
    "    \n",
    "    words = [word.lower() for word in tokenizer.tokenize(sentence)]\n",
    "    for word in words:\n",
    "        \n",
    "        if word in pro:\n",
    "            pros= pros+1\n",
    "        else:\n",
    "            pros= pros+0\n",
    "             \n",
    "    return pros\n",
    "\n",
    "def anti(sentence):\n",
    "    \n",
    "    antis=0\n",
    "    words = [word.lower() for word in tokenizer.tokenize(sentence)]\n",
    "    for word in words:\n",
    "        \n",
    "             if word in antii:\n",
    "            antis= antis+1\n",
    "    return antis"
   ]
  },
  {
   "cell_type": "code",
   "execution_count": 11,
   "metadata": {},
   "outputs": [],
   "source": [
    "data['support_count']= data['comments'].apply(support)\n",
    "data['anti_count']= data['comments'].apply(anti)"
   ]
  },
  {
   "cell_type": "code",
   "execution_count": 12,
   "metadata": {},
   "outputs": [
    {
     "data": {
      "text/html": [
       "<div>\n",
       "<style scoped>\n",
       "    .dataframe tbody tr th:only-of-type {\n",
       "        vertical-align: middle;\n",
       "    }\n",
       "\n",
       "    .dataframe tbody tr th {\n",
       "        vertical-align: top;\n",
       "    }\n",
       "\n",
       "    .dataframe thead th {\n",
       "        text-align: right;\n",
       "    }\n",
       "</style>\n",
       "<table border=\"1\" class=\"dataframe\">\n",
       "  <thead>\n",
       "    <tr style=\"text-align: right;\">\n",
       "      <th></th>\n",
       "      <th>comments</th>\n",
       "      <th>tokenized_text</th>\n",
       "      <th>support_count</th>\n",
       "      <th>anti_count</th>\n",
       "    </tr>\n",
       "  </thead>\n",
       "  <tbody>\n",
       "    <tr>\n",
       "      <td>0</td>\n",
       "      <td>At Singhu border, protesting farmers from Punj...</td>\n",
       "      <td>[At, Singhu, border, ,, protesting, farmers, f...</td>\n",
       "      <td>13</td>\n",
       "      <td>7</td>\n",
       "    </tr>\n",
       "    <tr>\n",
       "      <td>1</td>\n",
       "      <td>Sikh are peaceful community we respect them fr...</td>\n",
       "      <td>[Sikh, are, peaceful, community, we, respect, ...</td>\n",
       "      <td>4</td>\n",
       "      <td>0</td>\n",
       "    </tr>\n",
       "    <tr>\n",
       "      <td>2</td>\n",
       "      <td>Every citizen has a right to say I support you...</td>\n",
       "      <td>[Every, citizen, has, a, right, to, say, I, su...</td>\n",
       "      <td>2</td>\n",
       "      <td>0</td>\n",
       "    </tr>\n",
       "    <tr>\n",
       "      <td>3</td>\n",
       "      <td>Nihangs are disciplined warriors of our sikh c...</td>\n",
       "      <td>[Nihangs, are, disciplined, warriors, of, our,...</td>\n",
       "      <td>2</td>\n",
       "      <td>0</td>\n",
       "    </tr>\n",
       "    <tr>\n",
       "      <td>4</td>\n",
       "      <td>Dil jeet liya Nihang Sikh ne</td>\n",
       "      <td>[Dil, jeet, liya, Nihang, Sikh, ne]</td>\n",
       "      <td>1</td>\n",
       "      <td>0</td>\n",
       "    </tr>\n",
       "  </tbody>\n",
       "</table>\n",
       "</div>"
      ],
      "text/plain": [
       "                                            comments  \\\n",
       "0  At Singhu border, protesting farmers from Punj...   \n",
       "1  Sikh are peaceful community we respect them fr...   \n",
       "2  Every citizen has a right to say I support you...   \n",
       "3  Nihangs are disciplined warriors of our sikh c...   \n",
       "4                       Dil jeet liya Nihang Sikh ne   \n",
       "\n",
       "                                      tokenized_text  support_count  \\\n",
       "0  [At, Singhu, border, ,, protesting, farmers, f...             13   \n",
       "1  [Sikh, are, peaceful, community, we, respect, ...              4   \n",
       "2  [Every, citizen, has, a, right, to, say, I, su...              2   \n",
       "3  [Nihangs, are, disciplined, warriors, of, our,...              2   \n",
       "4                [Dil, jeet, liya, Nihang, Sikh, ne]              1   \n",
       "\n",
       "   anti_count  \n",
       "0           7  \n",
       "1           0  \n",
       "2           0  \n",
       "3           0  \n",
       "4           0  "
      ]
     },
     "execution_count": 12,
     "metadata": {},
     "output_type": "execute_result"
    }
   ],
   "source": [
    "data.head()"
   ]
  },
  {
   "cell_type": "code",
   "execution_count": 13,
   "metadata": {
    "scrolled": true
   },
   "outputs": [],
   "source": [
    "data['sentiment']= sum([data['support_count']> data.anti_count])"
   ]
  },
  {
   "cell_type": "code",
   "execution_count": 14,
   "metadata": {},
   "outputs": [
    {
     "data": {
      "text/html": [
       "<div>\n",
       "<style scoped>\n",
       "    .dataframe tbody tr th:only-of-type {\n",
       "        vertical-align: middle;\n",
       "    }\n",
       "\n",
       "    .dataframe tbody tr th {\n",
       "        vertical-align: top;\n",
       "    }\n",
       "\n",
       "    .dataframe thead th {\n",
       "        text-align: right;\n",
       "    }\n",
       "</style>\n",
       "<table border=\"1\" class=\"dataframe\">\n",
       "  <thead>\n",
       "    <tr style=\"text-align: right;\">\n",
       "      <th></th>\n",
       "      <th>comments</th>\n",
       "      <th>tokenized_text</th>\n",
       "      <th>support_count</th>\n",
       "      <th>anti_count</th>\n",
       "      <th>sentiment</th>\n",
       "    </tr>\n",
       "  </thead>\n",
       "  <tbody>\n",
       "    <tr>\n",
       "      <td>0</td>\n",
       "      <td>At Singhu border, protesting farmers from Punj...</td>\n",
       "      <td>[At, Singhu, border, ,, protesting, farmers, f...</td>\n",
       "      <td>13</td>\n",
       "      <td>7</td>\n",
       "      <td>1</td>\n",
       "    </tr>\n",
       "    <tr>\n",
       "      <td>1</td>\n",
       "      <td>Sikh are peaceful community we respect them fr...</td>\n",
       "      <td>[Sikh, are, peaceful, community, we, respect, ...</td>\n",
       "      <td>4</td>\n",
       "      <td>0</td>\n",
       "      <td>1</td>\n",
       "    </tr>\n",
       "    <tr>\n",
       "      <td>2</td>\n",
       "      <td>Every citizen has a right to say I support you...</td>\n",
       "      <td>[Every, citizen, has, a, right, to, say, I, su...</td>\n",
       "      <td>2</td>\n",
       "      <td>0</td>\n",
       "      <td>1</td>\n",
       "    </tr>\n",
       "    <tr>\n",
       "      <td>3</td>\n",
       "      <td>Nihangs are disciplined warriors of our sikh c...</td>\n",
       "      <td>[Nihangs, are, disciplined, warriors, of, our,...</td>\n",
       "      <td>2</td>\n",
       "      <td>0</td>\n",
       "      <td>1</td>\n",
       "    </tr>\n",
       "    <tr>\n",
       "      <td>4</td>\n",
       "      <td>Dil jeet liya Nihang Sikh ne</td>\n",
       "      <td>[Dil, jeet, liya, Nihang, Sikh, ne]</td>\n",
       "      <td>1</td>\n",
       "      <td>0</td>\n",
       "      <td>1</td>\n",
       "    </tr>\n",
       "  </tbody>\n",
       "</table>\n",
       "</div>"
      ],
      "text/plain": [
       "                                            comments  \\\n",
       "0  At Singhu border, protesting farmers from Punj...   \n",
       "1  Sikh are peaceful community we respect them fr...   \n",
       "2  Every citizen has a right to say I support you...   \n",
       "3  Nihangs are disciplined warriors of our sikh c...   \n",
       "4                       Dil jeet liya Nihang Sikh ne   \n",
       "\n",
       "                                      tokenized_text  support_count  \\\n",
       "0  [At, Singhu, border, ,, protesting, farmers, f...             13   \n",
       "1  [Sikh, are, peaceful, community, we, respect, ...              4   \n",
       "2  [Every, citizen, has, a, right, to, say, I, su...              2   \n",
       "3  [Nihangs, are, disciplined, warriors, of, our,...              2   \n",
       "4                [Dil, jeet, liya, Nihang, Sikh, ne]              1   \n",
       "\n",
       "   anti_count  sentiment  \n",
       "0           7          1  \n",
       "1           0          1  \n",
       "2           0          1  \n",
       "3           0          1  \n",
       "4           0          1  "
      ]
     },
     "execution_count": 14,
     "metadata": {},
     "output_type": "execute_result"
    }
   ],
   "source": [
    "data.head()"
   ]
  },
  {
   "cell_type": "code",
   "execution_count": 15,
   "metadata": {},
   "outputs": [
    {
     "data": {
      "text/html": [
       "<div>\n",
       "<style scoped>\n",
       "    .dataframe tbody tr th:only-of-type {\n",
       "        vertical-align: middle;\n",
       "    }\n",
       "\n",
       "    .dataframe tbody tr th {\n",
       "        vertical-align: top;\n",
       "    }\n",
       "\n",
       "    .dataframe thead th {\n",
       "        text-align: right;\n",
       "    }\n",
       "</style>\n",
       "<table border=\"1\" class=\"dataframe\">\n",
       "  <thead>\n",
       "    <tr style=\"text-align: right;\">\n",
       "      <th></th>\n",
       "      <th>comments</th>\n",
       "      <th>tokenized_text</th>\n",
       "      <th>support_count</th>\n",
       "      <th>anti_count</th>\n",
       "      <th>sentiment</th>\n",
       "    </tr>\n",
       "  </thead>\n",
       "  <tbody>\n",
       "    <tr>\n",
       "      <td>6946</td>\n",
       "      <td>Indian Left is connected to the same groups th...</td>\n",
       "      <td>[Indian, Left, is, connected, to, the, same, g...</td>\n",
       "      <td>12</td>\n",
       "      <td>7</td>\n",
       "      <td>1</td>\n",
       "    </tr>\n",
       "    <tr>\n",
       "      <td>6947</td>\n",
       "      <td>Banker has so many regulators today . RBI deci...</td>\n",
       "      <td>[Banker, has, so, many, regulators, today, ., ...</td>\n",
       "      <td>3</td>\n",
       "      <td>0</td>\n",
       "      <td>1</td>\n",
       "    </tr>\n",
       "    <tr>\n",
       "      <td>6948</td>\n",
       "      <td>She is bookish &amp; ppt minister . No Knowledge o...</td>\n",
       "      <td>[She, is, bookish, &amp;, ppt, minister, ., No, Kn...</td>\n",
       "      <td>4</td>\n",
       "      <td>0</td>\n",
       "      <td>1</td>\n",
       "    </tr>\n",
       "    <tr>\n",
       "      <td>6949</td>\n",
       "      <td>farmers- political nexus  prolong and complica...</td>\n",
       "      <td>[farmers-, political, nexus, prolong, and, com...</td>\n",
       "      <td>5</td>\n",
       "      <td>5</td>\n",
       "      <td>0</td>\n",
       "    </tr>\n",
       "    <tr>\n",
       "      <td>6950</td>\n",
       "      <td>Arnab...y do u put yr opinion all the time n n...</td>\n",
       "      <td>[Arnab, ..., y, do, u, put, yr, opinion, all, ...</td>\n",
       "      <td>1</td>\n",
       "      <td>1</td>\n",
       "      <td>0</td>\n",
       "    </tr>\n",
       "  </tbody>\n",
       "</table>\n",
       "</div>"
      ],
      "text/plain": [
       "                                               comments  \\\n",
       "6946  Indian Left is connected to the same groups th...   \n",
       "6947  Banker has so many regulators today . RBI deci...   \n",
       "6948  She is bookish & ppt minister . No Knowledge o...   \n",
       "6949  farmers- political nexus  prolong and complica...   \n",
       "6950  Arnab...y do u put yr opinion all the time n n...   \n",
       "\n",
       "                                         tokenized_text  support_count  \\\n",
       "6946  [Indian, Left, is, connected, to, the, same, g...             12   \n",
       "6947  [Banker, has, so, many, regulators, today, ., ...              3   \n",
       "6948  [She, is, bookish, &, ppt, minister, ., No, Kn...              4   \n",
       "6949  [farmers-, political, nexus, prolong, and, com...              5   \n",
       "6950  [Arnab, ..., y, do, u, put, yr, opinion, all, ...              1   \n",
       "\n",
       "      anti_count  sentiment  \n",
       "6946           7          1  \n",
       "6947           0          1  \n",
       "6948           0          1  \n",
       "6949           5          0  \n",
       "6950           1          0  "
      ]
     },
     "execution_count": 15,
     "metadata": {},
     "output_type": "execute_result"
    }
   ],
   "source": [
    "data.tail()"
   ]
  },
  {
   "cell_type": "code",
   "execution_count": 17,
   "metadata": {},
   "outputs": [
    {
     "data": {
      "image/png": "[encoded data removed]",
      "text/plain": [
       "<Figure size 432x288 with 1 Axes>"
      ]
     },
     "metadata": {
      "needs_background": "light"
     },
     "output_type": "display_data"
    }
   ],
   "source": [
    "import matplotlib.pyplot as plt\n",
    "Sentiment_count=data.groupby('sentiment').count()\n",
    "\n",
    "plt.bar(Sentiment_count.index.values, Sentiment_count['comments'])\n",
    "\n",
    "plt.xlabel('sentiments')\n",
    "plt.ylabel('Number of comments')\n",
    "\n",
    "plt.show()"
   ]
  },
  {
   "cell_type": "code",
   "execution_count": 18,
   "metadata": {},
   "outputs": [],
   "source": [
    "import seaborn as sns"
   ]
  },
  {
   "cell_type": "code",
   "execution_count": 22,
   "metadata": {},
   "outputs": [
    {
     "data": {
      "image/png": "[encoded data removed]",
      "text/plain": [
       "<Figure size 864x432 with 1 Axes>"
      ]
     },
     "metadata": {
      "needs_background": "light"
     },
     "output_type": "display_data"
    }
   ],
   "source": [
    "sns.factorplot(x=\"sentiment\", data=data, kind=\"count\", size=6, aspect=2, palette=\"PuBuGn_d\")\n",
    "plt.show()"
   ]
  },
  {
   "cell_type": "code",
   "execution_count": 23,
   "metadata": {},
   "outputs": [
    {
     "name": "stdout",
     "output_type": "stream",
     "text": [
      "Collecting gensim\n",
      "  Downloading https://files.pythonhosted.org/packages/0b/66/04faeedb98bfa5f241d0399d0102456886179cabac0355475f23a2978847/gensim-3.8.3-cp37-cp37m-win_amd64.whl (24.2MB)\n",
      "Requirement already satisfied: scipy>=0.18.1 in c:\\users\\nipun khare\\anaconda3\\lib\\site-packages (from gensim) (1.3.1)\n",
      "Requirement already satisfied: six>=1.5.0 in c:\\users\\nipun khare\\anaconda3\\lib\\site-packages (from gensim) (1.12.0)\n",
      "Collecting smart-open>=1.8.1 (from gensim)\n",
      "  Downloading https://files.pythonhosted.org/packages/e3/cf/6311dfb0aff3e295d63930dea72e3029800242cdfe0790478e33eccee2ab/smart_open-4.0.1.tar.gz (117kB)\n",
      "Collecting Cython==0.29.14 (from gensim)\n",
      "  Downloading https://files.pythonhosted.org/packages/1f/be/b14be5c3ad1ff73096b518be1538282f053ec34faaca60a8753d975d7e93/Cython-0.29.14-cp37-cp37m-win_amd64.whl (1.7MB)\n",
      "Requirement already satisfied: numpy>=1.11.3 in c:\\users\\nipun khare\\anaconda3\\lib\\site-packages (from gensim) (1.16.5)\n",
      "Building wheels for collected packages: smart-open\n",
      "  Building wheel for smart-open (setup.py): started\n",
      "  Building wheel for smart-open (setup.py): finished with status 'done'\n",
      "  Created wheel for smart-open: filename=smart_open-4.0.1-cp37-none-any.whl size=108255 sha256=56e350fdea57b6a31f66080fa8748dbb553f421708b33c140b84344c9a2851cf\n",
      "  Stored in directory: C:\\Users\\Nipun Khare\\AppData\\Local\\pip\\Cache\\wheels\\ce\\2e\\f2\\edb1bbf046cfa865406b6d62f56bb9ae9052fa53b29648fb39\n",
      "Successfully built smart-open\n",
      "Installing collected packages: smart-open, Cython, gensim\n",
      "  Found existing installation: Cython 0.29.13\n",
      "    Uninstalling Cython-0.29.13:\n",
      "      Successfully uninstalled Cython-0.29.13\n",
      "Successfully installed Cython-0.29.14 gensim-3.8.3 smart-open-4.0.1\n"
     ]
    }
   ],
   "source": [
    "!pip install gensim"
   ]
  },
  {
   "cell_type": "code",
   "execution_count": 31,
   "metadata": {},
   "outputs": [
    {
     "name": "stdout",
     "output_type": "stream",
     "text": [
      "Collecting sumy\n",
      "  Downloading https://files.pythonhosted.org/packages/61/20/8abf92617ec80a2ebaec8dc1646a790fc9656a4a4377ddb9f0cc90bc9326/sumy-0.8.1-py2.py3-none-any.whl (83kB)\n",
      "Collecting docopt<0.7,>=0.6.1 (from sumy)\n",
      "  Downloading https://files.pythonhosted.org/packages/a2/55/8f8cab2afd404cf578136ef2cc5dfb50baa1761b68c9da1fb1e4eed343c9/docopt-0.6.2.tar.gz\n",
      "Requirement already satisfied: nltk>=3.0.2 in c:\\users\\nipun khare\\anaconda3\\lib\\site-packages (from sumy) (3.4.5)\n",
      "Requirement already satisfied: requests>=2.7.0 in c:\\users\\nipun khare\\anaconda3\\lib\\site-packages (from sumy) (2.22.0)\n",
      "Collecting breadability>=0.1.20 (from sumy)\n",
      "  Downloading https://files.pythonhosted.org/packages/ad/2d/bb6c9b381e6b6a432aa2ffa8f4afdb2204f1ff97cfcc0766a5b7683fec43/breadability-0.1.20.tar.gz\n",
      "Collecting pycountry>=18.2.23 (from sumy)\n",
      "  Downloading https://files.pythonhosted.org/packages/76/73/6f1a412f14f68c273feea29a6ea9b9f1e268177d32e0e69ad6790d306312/pycountry-20.7.3.tar.gz (10.1MB)\n",
      "Requirement already satisfied: six in c:\\users\\nipun khare\\anaconda3\\lib\\site-packages (from nltk>=3.0.2->sumy) (1.12.0)\n",
      "Requirement already satisfied: urllib3!=1.25.0,!=1.25.1,<1.26,>=1.21.1 in c:\\users\\nipun khare\\anaconda3\\lib\\site-packages (from requests>=2.7.0->sumy) (1.24.2)\n",
      "Requirement already satisfied: certifi>=2017.4.17 in c:\\users\\nipun khare\\anaconda3\\lib\\site-packages (from requests>=2.7.0->sumy) (2019.9.11)\n",
      "Requirement already satisfied: idna<2.9,>=2.5 in c:\\users\\nipun khare\\anaconda3\\lib\\site-packages (from requests>=2.7.0->sumy) (2.8)\n",
      "Requirement already satisfied: chardet<3.1.0,>=3.0.2 in c:\\users\\nipun khare\\anaconda3\\lib\\site-packages (from requests>=2.7.0->sumy) (3.0.4)\n",
      "Requirement already satisfied: lxml>=2.0 in c:\\users\\nipun khare\\anaconda3\\lib\\site-packages (from breadability>=0.1.20->sumy) (4.4.1)\n",
      "Building wheels for collected packages: docopt, breadability, pycountry\n",
      "  Building wheel for docopt (setup.py): started\n",
      "  Building wheel for docopt (setup.py): finished with status 'done'\n",
      "  Created wheel for docopt: filename=docopt-0.6.2-py2.py3-none-any.whl size=13709 sha256=655b4a3fa0c3249d148e1b5042b2afcca6eedb2698e2d6768ed6e9fca91dc02d\n",
      "  Stored in directory: C:\\Users\\Nipun Khare\\AppData\\Local\\pip\\Cache\\wheels\\9b\\04\\dd\\7daf4150b6d9b12949298737de9431a324d4b797ffd63f526e\n",
      "  Building wheel for breadability (setup.py): started\n",
      "  Building wheel for breadability (setup.py): finished with status 'done'\n",
      "  Created wheel for breadability: filename=breadability-0.1.20-py2.py3-none-any.whl size=21687 sha256=fc40526a6c0a19cc2c909fdd7c567c778d055c7e290f87a378c1ca5bfc9b7f05\n",
      "  Stored in directory: C:\\Users\\Nipun Khare\\AppData\\Local\\pip\\Cache\\wheels\\5a\\4d\\a1\\510b12c5e65e0b2b3ce539b2af66da0fc57571e528924f4a52\n",
      "  Building wheel for pycountry (setup.py): started\n",
      "  Building wheel for pycountry (setup.py): finished with status 'done'\n",
      "  Created wheel for pycountry: filename=pycountry-20.7.3-py2.py3-none-any.whl size=10746871 sha256=65750c5944bdad752b7ec88c73de0d1fe304944223aef226e269788a75a87901\n",
      "  Stored in directory: C:\\Users\\Nipun Khare\\AppData\\Local\\pip\\Cache\\wheels\\33\\4e\\a6\\be297e6b83567e537bed9df4a93f8590ec01c1acfbcd405348\n",
      "Successfully built docopt breadability pycountry\n",
      "Installing collected packages: docopt, breadability, pycountry, sumy\n",
      "Successfully installed breadability-0.1.20 docopt-0.6.2 pycountry-20.7.3 sumy-0.8.1\n"
     ]
    }
   ],
   "source": [
    "!pip install sumy"
   ]
  },
  {
   "cell_type": "code",
   "execution_count": 32,
   "metadata": {},
   "outputs": [
    {
     "name": "stdout",
     "output_type": "stream",
     "text": [
      "comments  \\ 0     At Singhu border, protesting farmers from Punj... 1     Sikh are peaceful community we respect them fr... 2     Every citizen has a right to say I support you... 3     Nihangs are disciplined warriors of our sikh c... 4                          Dil jeet liya Nihang Sikh ne ...                                                 ... 6946  Indian Left is connected to the same groups th... 6947  Banker has so many regulators today .tokenized_text  support_count  \\ 0     [At, Singhu, border, ,, protesting, farmers, f...             13 1     [Sikh, are, peaceful, community, we, respect, ...              4 2     [Every, citizen, has, a, right, to, say, I, su...              2 3     [Nihangs, are, disciplined, warriors, of, our,...              2 4                   [Dil, jeet, liya, Nihang, Sikh, ne]              1 ...                                                 ...            ... 6946  [Indian, Left, is, connected, to, the, same, g...             12 6947  [Banker, has, so, many, regulators, today, ., ...              3 6948  [She, is, bookish, &, ppt, minister, ., No, Kn...              4 6949  [farmers-, political, nexus, prolong, and, com...              5 6950  [Arnab, ..., y, do, u, put, yr, opinion, all, ...              1\n"
     ]
    }
   ],
   "source": [
    "from sumy.parsers.plaintext import PlaintextParser\n",
    "from sumy.nlp.tokenizers import Tokenizer\n",
    "\n",
    "# Creating text parser using tokenization\n",
    "parser = PlaintextParser.from_string(data,Tokenizer(\"english\"))\n",
    "\n",
    "from sumy.summarizers.text_rank import TextRankSummarizer\n",
    "\n",
    "# Summarize using sumy TextRank\n",
    "summarizer = TextRankSummarizer()\n",
    "summary =summarizer(parser.document,2)\n",
    "\n",
    "text_summary=\"\"\n",
    "for sentence in summary:\n",
    "    text_summary+=str(sentence)\n",
    "\n",
    "print(text_summary)"
   ]
  },
  {
   "cell_type": "code",
   "execution_count": 33,
   "metadata": {},
   "outputs": [
    {
     "name": "stdout",
     "output_type": "stream",
     "text": [
      "tokenized_text  support_count  \\ 0     [At, Singhu, border, ,, protesting, farmers, f...             13 1     [Sikh, are, peaceful, community, we, respect, ...              4 2     [Every, citizen, has, a, right, to, say, I, su...              2 3     [Nihangs, are, disciplined, warriors, of, our,...              2 4                   [Dil, jeet, liya, Nihang, Sikh, ne]              1 ...                                                 ...            ... 6946  [Indian, Left, is, connected, to, the, same, g...             12 6947  [Banker, has, so, many, regulators, today, ., ...              3 6948  [She, is, bookish, &, ppt, minister, ., No, Kn...              4 6949  [farmers-, political, nexus, prolong, and, com...              5 6950  [Arnab, ..., y, do, u, put, yr, opinion, all, ...              1anti_count  sentiment 0              7          1 1              0          1 2              0          1 3              0          1 4              0          1 ...          ...        ... 6946           7          1 6947           0          1 6948           0          1 6949           5          0 6950           1          0\n"
     ]
    }
   ],
   "source": [
    "from sumy.summarizers.lex_rank import LexRankSummarizer\n",
    "summarizer_lex = LexRankSummarizer()\n",
    "\n",
    "# Summarize using sumy LexRank\n",
    "summary= summarizer_lex(parser.document, 2)\n",
    "lex_summary=\"\"\n",
    "\n",
    "for sentence in summary:\n",
    "    lex_summary+=str(sentence)  \n",
    "print(lex_summary)"
   ]
  },
  {
   "cell_type": "code",
   "execution_count": 34,
   "metadata": {},
   "outputs": [
    {
     "name": "stdout",
     "output_type": "stream",
     "text": [
      "comments  \\ 0     At Singhu border, protesting farmers from Punj... 1     Sikh are peaceful community we respect them fr... 2     Every citizen has a right to say I support you... 3     Nihangs are disciplined warriors of our sikh c... 4                          Dil jeet liya Nihang Sikh ne ...                                                 ... 6946  Indian Left is connected to the same groups th... 6947  Banker has so many regulators today .tokenized_text  support_count  \\ 0     [At, Singhu, border, ,, protesting, farmers, f...             13 1     [Sikh, are, peaceful, community, we, respect, ...              4 2     [Every, citizen, has, a, right, to, say, I, su...              2 3     [Nihangs, are, disciplined, warriors, of, our,...              2 4                   [Dil, jeet, liya, Nihang, Sikh, ne]              1 ...                                                 ...            ... 6946  [Indian, Left, is, connected, to, the, same, g...             12 6947  [Banker, has, so, many, regulators, today, ., ...              3 6948  [She, is, bookish, &, ppt, minister, ., No, Kn...              4 6949  [farmers-, political, nexus, prolong, and, com...              5 6950  [Arnab, ..., y, do, u, put, yr, opinion, all, ...              1\n"
     ]
    }
   ],
   "source": [
    "from sumy.summarizers.lsa import LsaSummarizer\n",
    "summarizer_lsa = LsaSummarizer()\n",
    "\n",
    "# Summarize using sumy LSA\n",
    "summary =summarizer_lsa(parser.document,2)\n",
    "\n",
    "lsa_summary=\"\"\n",
    "for sentence in summary:\n",
    "    lsa_summary+=str(sentence)  \n",
    "\n",
    "print(lsa_summary)"
   ]
  },
  {
   "cell_type": "code",
   "execution_count": 36,
   "metadata": {},
   "outputs": [
    {
     "name": "stdout",
     "output_type": "stream",
     "text": [
      "RBI deci... 6948  She is bookish & ppt minister .No Knowledge o... 6949  farmers- political nexus  prolong and complica... 6950  Arnab...y do u put yr opinion all the time n n...[6951 rows x 5 columns]\n"
     ]
    }
   ],
   "source": [
    "from sumy.summarizers.kl import KLSummarizer\n",
    "\n",
    "summarizer_kl = KLSummarizer()\n",
    "\n",
    "# Summarize using sumy KL Divergence\n",
    "summary =summarizer_kl(parser.document,3)\n",
    "\n",
    "kl_summary=\"\"\n",
    "for sentence in summary:\n",
    "    kl_summary+=str(sentence)  \n",
    "print(kl_summary)\n"
   ]
  },
  {
   "cell_type": "code",
   "execution_count": null,
   "metadata": {},
   "outputs": [],
   "source": []
  }
 ],
 "metadata": {
  "kernelspec": {
   "display_name": "Python 3",
   "language": "python",
   "name": "python3"
  },
  "language_info": {
   "codemirror_mode": {
    "name": "ipython",
    "version": 3
   },
   "file_extension": ".py",
   "mimetype": "text/x-python",
   "name": "python",
   "nbconvert_exporter": "python",
   "pygments_lexer": "ipython3",
   "version": "3.7.4"
  }
 },
 "nbformat": 4,
 "nbformat_minor": 2
}
